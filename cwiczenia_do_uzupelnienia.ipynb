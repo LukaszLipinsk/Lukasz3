{
 "cells": [
  {
   "cell_type": "markdown",
   "source": [
    "1. Napisz funkcję rekurencyjną obliczającą silnię <br>\n",
    "np. 5! = 5 * 4 * 3 * 2 * 1 = 120 <br>\n",
    "czyli wywołania wyglądają następująco: <br>\n",
    "silnia(5) = 5 * silnia(4) = 5 * 4 * silnia(3) = 5 * 4 * 3 * silnia(2) =\n",
    "5 * 4 * 3 * 2 * silnia(1) = 5 * 4 * 3 * 2 * 1 = 120"
   ],
   "metadata": {
    "collapsed": false
   }
  },
  {
   "cell_type": "code",
   "execution_count": 1,
   "outputs": [
    {
     "name": "stdout",
     "output_type": "stream",
     "text": [
      "120\n"
     ]
    }
   ],
   "source": [],
   "metadata": {
    "collapsed": false,
    "pycharm": {
     "name": "#%%\n"
    }
   }
  },
  {
   "cell_type": "markdown",
   "metadata": {
    "collapsed": true,
    "pycharm": {
     "name": "#%% md\n"
    }
   },
   "source": [
    "2. Napisz prosty kalkulator obsługujący operacje dodawania,\n",
    "odejmowania, mnożenia i dzielenia. Funkcja powinna być wywoływana\n",
    "w następujący sposób kalkulator(liczba1, operacja, liczba2)\n",
    "np. kalkulator(2, \"+\", 5)\n",
    "Pierwszy i trzeci argument funkcji to integery, drugi to string\n",
    "(jeden z: \"+\", \"-\", \"*\", \"/\")"
   ]
  },
  {
   "cell_type": "code",
   "source": [],
   "metadata": {
    "collapsed": false,
    "pycharm": {
     "name": "#%%\n"
    }
   },
   "execution_count": 4,
   "outputs": [
    {
     "name": "stdout",
     "output_type": "stream",
     "text": [
      "9\n",
      "2\n",
      "25\n",
      "2.5\n",
      "Niewłaściwa operacja\n",
      "None\n"
     ]
    }
   ]
  },
  {
   "cell_type": "markdown",
   "source": [
    "3. Napisz funkcję, która pobiera numer karty kredytowej i wyświetla\n",
    "tylko 4 ostatnie znaki. Wszystkie inne znaki powinny być zastąpione *******"
   ],
   "metadata": {
    "collapsed": false,
    "pycharm": {
     "name": "#%% md\n"
    }
   }
  },
  {
   "cell_type": "code",
   "execution_count": 7,
   "outputs": [
    {
     "name": "stdout",
     "output_type": "stream",
     "text": [
      "*****6789"
     ]
    }
   ],
   "source": [],
   "metadata": {
    "collapsed": false,
    "pycharm": {
     "name": "#%%\n"
    }
   }
  }
 ],
 "metadata": {
  "kernelspec": {
   "display_name": "Python 3",
   "language": "python",
   "name": "python3"
  },
  "language_info": {
   "codemirror_mode": {
    "name": "ipython",
    "version": 2
   },
   "file_extension": ".py",
   "mimetype": "text/x-python",
   "name": "python",
   "nbconvert_exporter": "python",
   "pygments_lexer": "ipython2",
   "version": "2.7.6"
  }
 },
 "nbformat": 4,
 "nbformat_minor": 0
}